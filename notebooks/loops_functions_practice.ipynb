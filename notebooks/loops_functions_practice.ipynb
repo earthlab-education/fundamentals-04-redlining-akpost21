{
 "cells": [
  {
   "cell_type": "markdown",
   "metadata": {},
   "source": [
    "## Loops"
   ]
  },
  {
   "cell_type": "code",
   "execution_count": 13,
   "metadata": {},
   "outputs": [
    {
     "data": {
      "text/plain": [
       "[1, 2, 3, 4, 5]"
      ]
     },
     "execution_count": 13,
     "metadata": {},
     "output_type": "execute_result"
    }
   ],
   "source": [
    "# Create list of numbers\n",
    "list_of_values = [1, 2, 3, 4, 5]\n",
    "\n",
    "# Print each object separately\n",
    "list_of_values"
   ]
  },
  {
   "cell_type": "code",
   "execution_count": 15,
   "metadata": {},
   "outputs": [
    {
     "name": "stdout",
     "output_type": "stream",
     "text": [
      "1\n"
     ]
    }
   ],
   "source": [
    "# Cycle through each number and print separately\n",
    "for avalue in list_of_values:\n",
    "    print(avalue)\n",
    "    break"
   ]
  },
  {
   "cell_type": "code",
   "execution_count": 16,
   "metadata": {},
   "outputs": [
    {
     "name": "stdout",
     "output_type": "stream",
     "text": [
      "the current value is: 1\n",
      "the current value is: 2\n",
      "the current value is: 3\n",
      "the current value is: 4\n",
      "the current value is: 5\n"
     ]
    }
   ],
   "source": [
    "# Cycle through each number and print with text\n",
    "for avalue in list_of_values:\n",
    "    print(\"the current value is:\", avalue)"
   ]
  },
  {
   "cell_type": "code",
   "execution_count": 21,
   "metadata": {},
   "outputs": [
    {
     "name": "stdout",
     "output_type": "stream",
     "text": [
      "22\n",
      "15\n",
      "146\n",
      "57\n"
     ]
    }
   ],
   "source": [
    "# Create new list of integers\n",
    "num_list = [12, 5, 136, 47]\n",
    "\n",
    "# For each item in list, add 10 and print new value\n",
    "for i in num_list:\n",
    "    n = i + 10\n",
    "    print(n)\n",
    "\n",
    "\n",
    "# What if we don't call \"print\"?\n",
    "# What if we add a \"break\"?\n",
    "# What if we change what \"i\" is called?\n",
    "# Look at current \"i\" and \"n\" object values"
   ]
  },
  {
   "cell_type": "code",
   "execution_count": null,
   "metadata": {},
   "outputs": [
    {
     "data": {
      "text/plain": [
       "[22, 15, 146, 57]"
      ]
     },
     "execution_count": 23,
     "metadata": {},
     "output_type": "execute_result"
    }
   ],
   "source": [
    "# But each output value is listed separately. What if we want them \n",
    "# all to be in the same object (such as a list)?\n",
    "\n",
    "# Create empty list to store output\n",
    "new_list = []\n",
    "\n",
    "# Create loop & append (add) output to the list\n",
    "for i in num_list:\n",
    "    new_list.append(i + 10)\n",
    "\n",
    "new_list"
   ]
  },
  {
   "cell_type": "code",
   "execution_count": null,
   "metadata": {},
   "outputs": [],
   "source": [
    "import numpy as np\n",
    "\n",
    "data = np.array([[1, 2, 3],\n",
    "                 [4, 5, 6],\n",
    "                 [7, 8, 9]])"
   ]
  },
  {
   "cell_type": "code",
   "execution_count": 27,
   "metadata": {},
   "outputs": [
    {
     "name": "stdout",
     "output_type": "stream",
     "text": [
      "11\n",
      "12\n",
      "13\n"
     ]
    }
   ],
   "source": [
    "# For each item in list, add 10 and print new value\n",
    "for i in data[0]:\n",
    "    n = i + 10\n",
    "    print(n)"
   ]
  },
  {
   "cell_type": "markdown",
   "metadata": {},
   "source": [
    "## Functions"
   ]
  },
  {
   "cell_type": "code",
   "execution_count": null,
   "metadata": {},
   "outputs": [],
   "source": [
    "# Function structure\n",
    "def function_name(parameter):\n",
    "    some code here    \n",
    "    return output"
   ]
  },
  {
   "cell_type": "code",
   "execution_count": null,
   "metadata": {},
   "outputs": [
    {
     "data": {
      "text/plain": [
       "1.1811023622047245"
      ]
     },
     "execution_count": 31,
     "metadata": {},
     "output_type": "execute_result"
    }
   ],
   "source": [
    "# Convert input from mm to inches\n",
    "def mm_to_in(mm):    \n",
    "    inches = mm / 25.4\n",
    "    return(inches)    \n",
    "\n",
    "\n",
    "# Test function\n",
    "mm_to_in(mm = 30)\n",
    "\n",
    "# What if we forget to add the return?\n",
    "# Don't need the \"mm =\" when use function"
   ]
  },
  {
   "cell_type": "code",
   "execution_count": 32,
   "metadata": {},
   "outputs": [
    {
     "name": "stdout",
     "output_type": "stream",
     "text": [
      "Help on function mm_to_in in module __main__:\n",
      "\n",
      "mm_to_in(mm)\n",
      "    Convert input from millimeters to inches. \n",
      "    \n",
      "    Parameters\n",
      "    ----------\n",
      "    mm : int or float\n",
      "        Numeric value with units in millimeters.\n",
      "    \n",
      "    Returns\n",
      "    ------\n",
      "    output : int float\n",
      "        Numeric value with units in inches.\n",
      "\n"
     ]
    }
   ],
   "source": [
    "# Add docstring to explain what function does\n",
    "def mm_to_in(mm):\n",
    "    \"\"\"Convert input from millimeters to inches. \n",
    "    \n",
    "    Parameters\n",
    "    ----------\n",
    "    mm : int or float\n",
    "        Numeric value with units in millimeters.\n",
    "    \n",
    "    Returns\n",
    "    ------\n",
    "    output : int float\n",
    "        Numeric value with units in inches.\n",
    "    \"\"\"\n",
    "    inches = mm / 25.4    \n",
    "    return inches\n",
    "\n",
    "# Docstring appears in \"help\" command for function\n",
    "help(mm_to_in)"
   ]
  },
  {
   "cell_type": "code",
   "execution_count": null,
   "metadata": {},
   "outputs": [
    {
     "data": {
      "text/plain": [
       "array([0.7 , 0.75, 1.85, 2.93, 3.05, 2.02, 1.93, 1.62, 1.84, 1.31, 1.39,\n",
       "       0.84])"
      ]
     },
     "execution_count": 35,
     "metadata": {},
     "output_type": "execute_result"
    }
   ],
   "source": [
    "# Can apply function to an numpy array \n",
    "\n",
    "# Import numpy\n",
    "import numpy as np\n",
    "\n",
    "# Average monthly precip (mm) for Boulder, CO\n",
    "avg_monthly_precip_mm = np.array([17.78, 19.05, 46.99, 74.422, 77.47, 51.308, 49.022, 41.148, 46.736, 33.274, 35.306, 21.336])\n",
    "\n",
    "# Convert to inches\n",
    "avg_monthly_precip_in = mm_to_in(mm = avg_monthly_precip_mm)\n",
    "\n",
    "avg_monthly_precip_in"
   ]
  },
  {
   "cell_type": "code",
   "execution_count": 36,
   "metadata": {},
   "outputs": [],
   "source": [
    "# Can have more than 1 input parameter for function\n",
    "\n",
    "def multiply_values(x,y):\n",
    "    z = x * y\n",
    "    return z"
   ]
  },
  {
   "cell_type": "code",
   "execution_count": 39,
   "metadata": {},
   "outputs": [
    {
     "data": {
      "text/plain": [
       "6"
      ]
     },
     "execution_count": 39,
     "metadata": {},
     "output_type": "execute_result"
    }
   ],
   "source": [
    "multiply_values(2, 3)"
   ]
  },
  {
   "cell_type": "code",
   "execution_count": 40,
   "metadata": {},
   "outputs": [
    {
     "data": {
      "text/plain": [
       "49.99999999999999"
      ]
     },
     "execution_count": 40,
     "metadata": {},
     "output_type": "execute_result"
    }
   ],
   "source": [
    "# Function to calculate volume of pyramid\n",
    "# V = (1⁄3) × B × h\n",
    "\n",
    "def pyramid_volume(base_area, height):\n",
    "    \"\"\"\n",
    "    Calculates the volume of a pyramid.\n",
    "\n",
    "    Parameters:\n",
    "        base_area (float): The area of the pyramid's base.\n",
    "        height (float): The height of the pyramid.\n",
    "\n",
    "    Returns:\n",
    "        float: The volume of the pyramid.\n",
    "    \"\"\"\n",
    "    volume = (1/3) * base_area * height\n",
    "    return volume\n",
    "\n",
    "\n",
    "# Test function\n",
    "pyramid_volume(10,15)"
   ]
  },
  {
   "cell_type": "markdown",
   "metadata": {},
   "source": [
    "## Combine Loops & Functions"
   ]
  },
  {
   "cell_type": "code",
   "execution_count": 45,
   "metadata": {},
   "outputs": [
    {
     "data": {
      "text/plain": [
       "[1, 4, 9, 16, 25]"
      ]
     },
     "execution_count": 45,
     "metadata": {},
     "output_type": "execute_result"
    }
   ],
   "source": [
    "# Example of a function contained within a loop\n",
    "\n",
    "# First define function\n",
    "def calculate_square(number):\n",
    "    \"\"\"\n",
    "    Returns the square of a number.\n",
    "    \"\"\"\n",
    "    n = number **2\n",
    "    return n\n",
    "\n",
    "# Create list of numbers as our trial \"dataset\"\n",
    "numbers_list = [1, 2, 3, 4, 5]\n",
    "\n",
    "# Create empty list to collect output\n",
    "squared_numbers_list = []\n",
    "\n",
    "for i in numbers_list:\n",
    "    square_num = calculate_square(i)\n",
    "    #print(square_num)\n",
    "    squared_numbers_list.append(square_num)\n",
    "\n",
    "# square_num is an intermediate/placeholder variable- changes with each loop iteration\n",
    "\n",
    "# Call object to see output list\n",
    "squared_numbers_list"
   ]
  }
 ],
 "metadata": {
  "kernelspec": {
   "display_name": "earth-analytics-python",
   "language": "python",
   "name": "python3"
  },
  "language_info": {
   "codemirror_mode": {
    "name": "ipython",
    "version": 3
   },
   "file_extension": ".py",
   "mimetype": "text/x-python",
   "name": "python",
   "nbconvert_exporter": "python",
   "pygments_lexer": "ipython3",
   "version": "3.11.10"
  }
 },
 "nbformat": 4,
 "nbformat_minor": 2
}
